{
  "nbformat": 4,
  "nbformat_minor": 0,
  "metadata": {
    "colab": {
      "name": "lab2.ipynb",
      "provenance": [],
      "collapsed_sections": [],
      "include_colab_link": true
    },
    "kernelspec": {
      "name": "python3",
      "display_name": "Python 3"
    },
    "language_info": {
      "name": "python"
    }
  },
  "cells": [
    {
      "cell_type": "markdown",
      "metadata": {
        "id": "view-in-github",
        "colab_type": "text"
      },
      "source": [
        "<a href=\"https://colab.research.google.com/github/tia337/lab2-ml/blob/master/lab2.ipynb\" target=\"_parent\"><img src=\"https://colab.research.google.com/assets/colab-badge.svg\" alt=\"Open In Colab\"/></a>"
      ]
    },
    {
      "cell_type": "markdown",
      "metadata": {
        "id": "g-jn7TCJjR5Y"
      },
      "source": [
        "Телефус Ілля КП-01мп, 01.05.2021\n",
        "**Лабораторна робота №2**"
      ]
    },
    {
      "cell_type": "markdown",
      "metadata": {
        "id": "hd08_RIMlcMY"
      },
      "source": [
        "**Завдання на лабораторну роботу**:\n",
        "У цій лабораторії необіхдно використовувати модель класифікатора дерева рішень, щоб визначити, хто пережив катастрофу на круїзному кораблі \"Титанік\".\n",
        "\n",
        "1. Створення класифікатора дерева рішень\n",
        "2. Застосування моделі дерева рішень\n",
        "3. Оцінка моделі дерева рішень\n",
        "\n"
      ]
    },
    {
      "cell_type": "code",
      "metadata": {
        "id": "FjEnAOP6ZbkP"
      },
      "source": [
        "#Code cell 1\n",
        "#import pandas\n",
        "import pandas as pd\n",
        "\n",
        "#create a pandas dataframe called \"training\" from the titanic-train.csv file\n",
        "training = pd.read_csv('https://raw.githubusercontent.com/tia337/ml_lab_source/master/titanic-train.csv')"
      ],
      "execution_count": null,
      "outputs": []
    },
    {
      "cell_type": "code",
      "metadata": {
        "colab": {
          "base_uri": "https://localhost:8080/"
        },
        "id": "bzjOv_xNahSf",
        "outputId": "114de34b-fd92-43a6-efd0-393a2117f732"
      },
      "source": [
        "#Code cell 2\n",
        "#verify the contents of the training dataframe using the pandas info() method.\n",
        "training.info()"
      ],
      "execution_count": null,
      "outputs": [
        {
          "output_type": "stream",
          "text": [
            "<class 'pandas.core.frame.DataFrame'>\n",
            "RangeIndex: 915 entries, 0 to 914\n",
            "Data columns (total 12 columns):\n",
            " #   Column       Non-Null Count  Dtype  \n",
            "---  ------       --------------  -----  \n",
            " 0   PassengerId  915 non-null    int64  \n",
            " 1   Survived     915 non-null    int64  \n",
            " 2   Pclass       915 non-null    int64  \n",
            " 3   Name         915 non-null    object \n",
            " 4   Gender       915 non-null    object \n",
            " 5   Age          738 non-null    float64\n",
            " 6   SibSp        915 non-null    int64  \n",
            " 7   Parch        915 non-null    int64  \n",
            " 8   Ticket       915 non-null    object \n",
            " 9   Fare         915 non-null    float64\n",
            " 10  Cabin        202 non-null    object \n",
            " 11  Embarked     914 non-null    object \n",
            "dtypes: float64(2), int64(5), object(5)\n",
            "memory usage: 85.9+ KB\n"
          ],
          "name": "stdout"
        }
      ]
    },
    {
      "cell_type": "markdown",
      "metadata": {
        "id": "Nw4oX1Tza9Y8"
      },
      "source": [
        "There are 'Age', 'Cabin' and 'Embarked' missing values in the data set"
      ]
    },
    {
      "cell_type": "code",
      "metadata": {
        "colab": {
          "base_uri": "https://localhost:8080/",
          "height": 204
        },
        "id": "agchJ5yLasrK",
        "outputId": "e70ce255-2b26-4227-b5d0-d3b6057bbf08"
      },
      "source": [
        "#Code cell 3\n",
        "#view the first few rows of the data\n",
        "training.head()"
      ],
      "execution_count": null,
      "outputs": [
        {
          "output_type": "execute_result",
          "data": {
            "text/html": [
              "<div>\n",
              "<style scoped>\n",
              "    .dataframe tbody tr th:only-of-type {\n",
              "        vertical-align: middle;\n",
              "    }\n",
              "\n",
              "    .dataframe tbody tr th {\n",
              "        vertical-align: top;\n",
              "    }\n",
              "\n",
              "    .dataframe thead th {\n",
              "        text-align: right;\n",
              "    }\n",
              "</style>\n",
              "<table border=\"1\" class=\"dataframe\">\n",
              "  <thead>\n",
              "    <tr style=\"text-align: right;\">\n",
              "      <th></th>\n",
              "      <th>PassengerId</th>\n",
              "      <th>Survived</th>\n",
              "      <th>Pclass</th>\n",
              "      <th>Name</th>\n",
              "      <th>Gender</th>\n",
              "      <th>Age</th>\n",
              "      <th>SibSp</th>\n",
              "      <th>Parch</th>\n",
              "      <th>Ticket</th>\n",
              "      <th>Fare</th>\n",
              "      <th>Cabin</th>\n",
              "      <th>Embarked</th>\n",
              "    </tr>\n",
              "  </thead>\n",
              "  <tbody>\n",
              "    <tr>\n",
              "      <th>0</th>\n",
              "      <td>1</td>\n",
              "      <td>0</td>\n",
              "      <td>1</td>\n",
              "      <td>Davidson, Mr. Thornton</td>\n",
              "      <td>male</td>\n",
              "      <td>31.0</td>\n",
              "      <td>1</td>\n",
              "      <td>0</td>\n",
              "      <td>F.C. 12750</td>\n",
              "      <td>52.0000</td>\n",
              "      <td>B71</td>\n",
              "      <td>S</td>\n",
              "    </tr>\n",
              "    <tr>\n",
              "      <th>1</th>\n",
              "      <td>2</td>\n",
              "      <td>0</td>\n",
              "      <td>3</td>\n",
              "      <td>Asim, Mr. Adola</td>\n",
              "      <td>male</td>\n",
              "      <td>35.0</td>\n",
              "      <td>0</td>\n",
              "      <td>0</td>\n",
              "      <td>SOTON/O.Q. 3101310</td>\n",
              "      <td>7.0500</td>\n",
              "      <td>NaN</td>\n",
              "      <td>S</td>\n",
              "    </tr>\n",
              "    <tr>\n",
              "      <th>2</th>\n",
              "      <td>3</td>\n",
              "      <td>0</td>\n",
              "      <td>3</td>\n",
              "      <td>Nankoff, Mr. Minko</td>\n",
              "      <td>male</td>\n",
              "      <td>NaN</td>\n",
              "      <td>0</td>\n",
              "      <td>0</td>\n",
              "      <td>349218</td>\n",
              "      <td>7.8958</td>\n",
              "      <td>NaN</td>\n",
              "      <td>S</td>\n",
              "    </tr>\n",
              "    <tr>\n",
              "      <th>3</th>\n",
              "      <td>4</td>\n",
              "      <td>0</td>\n",
              "      <td>1</td>\n",
              "      <td>Thayer, Mr. John Borland</td>\n",
              "      <td>male</td>\n",
              "      <td>49.0</td>\n",
              "      <td>1</td>\n",
              "      <td>1</td>\n",
              "      <td>17421</td>\n",
              "      <td>110.8833</td>\n",
              "      <td>C68</td>\n",
              "      <td>C</td>\n",
              "    </tr>\n",
              "    <tr>\n",
              "      <th>4</th>\n",
              "      <td>5</td>\n",
              "      <td>0</td>\n",
              "      <td>3</td>\n",
              "      <td>Strandberg, Miss. Ida Sofia</td>\n",
              "      <td>female</td>\n",
              "      <td>22.0</td>\n",
              "      <td>0</td>\n",
              "      <td>0</td>\n",
              "      <td>7553</td>\n",
              "      <td>9.8375</td>\n",
              "      <td>NaN</td>\n",
              "      <td>S</td>\n",
              "    </tr>\n",
              "  </tbody>\n",
              "</table>\n",
              "</div>"
            ],
            "text/plain": [
              "   PassengerId  Survived  Pclass  ...      Fare Cabin  Embarked\n",
              "0            1         0       1  ...   52.0000   B71         S\n",
              "1            2         0       3  ...    7.0500   NaN         S\n",
              "2            3         0       3  ...    7.8958   NaN         S\n",
              "3            4         0       1  ...  110.8833   C68         C\n",
              "4            5         0       3  ...    9.8375   NaN         S\n",
              "\n",
              "[5 rows x 12 columns]"
            ]
          },
          "metadata": {
            "tags": []
          },
          "execution_count": 3
        }
      ]
    },
    {
      "cell_type": "code",
      "metadata": {
        "colab": {
          "base_uri": "https://localhost:8080/",
          "height": 204
        },
        "id": "v3YZpQfkbBYN",
        "outputId": "5f93c52d-2b0e-4fbc-8353-827f1304605d"
      },
      "source": [
        "training[\"Gender\"] = training[\"Gender\"].apply(lambda toLabel: 0 if toLabel == 'male' else 1)\n",
        "training.head()"
      ],
      "execution_count": null,
      "outputs": [
        {
          "output_type": "execute_result",
          "data": {
            "text/html": [
              "<div>\n",
              "<style scoped>\n",
              "    .dataframe tbody tr th:only-of-type {\n",
              "        vertical-align: middle;\n",
              "    }\n",
              "\n",
              "    .dataframe tbody tr th {\n",
              "        vertical-align: top;\n",
              "    }\n",
              "\n",
              "    .dataframe thead th {\n",
              "        text-align: right;\n",
              "    }\n",
              "</style>\n",
              "<table border=\"1\" class=\"dataframe\">\n",
              "  <thead>\n",
              "    <tr style=\"text-align: right;\">\n",
              "      <th></th>\n",
              "      <th>PassengerId</th>\n",
              "      <th>Survived</th>\n",
              "      <th>Pclass</th>\n",
              "      <th>Name</th>\n",
              "      <th>Gender</th>\n",
              "      <th>Age</th>\n",
              "      <th>SibSp</th>\n",
              "      <th>Parch</th>\n",
              "      <th>Ticket</th>\n",
              "      <th>Fare</th>\n",
              "      <th>Cabin</th>\n",
              "      <th>Embarked</th>\n",
              "    </tr>\n",
              "  </thead>\n",
              "  <tbody>\n",
              "    <tr>\n",
              "      <th>0</th>\n",
              "      <td>1</td>\n",
              "      <td>0</td>\n",
              "      <td>1</td>\n",
              "      <td>Davidson, Mr. Thornton</td>\n",
              "      <td>0</td>\n",
              "      <td>31.0</td>\n",
              "      <td>1</td>\n",
              "      <td>0</td>\n",
              "      <td>F.C. 12750</td>\n",
              "      <td>52.0000</td>\n",
              "      <td>B71</td>\n",
              "      <td>S</td>\n",
              "    </tr>\n",
              "    <tr>\n",
              "      <th>1</th>\n",
              "      <td>2</td>\n",
              "      <td>0</td>\n",
              "      <td>3</td>\n",
              "      <td>Asim, Mr. Adola</td>\n",
              "      <td>0</td>\n",
              "      <td>35.0</td>\n",
              "      <td>0</td>\n",
              "      <td>0</td>\n",
              "      <td>SOTON/O.Q. 3101310</td>\n",
              "      <td>7.0500</td>\n",
              "      <td>NaN</td>\n",
              "      <td>S</td>\n",
              "    </tr>\n",
              "    <tr>\n",
              "      <th>2</th>\n",
              "      <td>3</td>\n",
              "      <td>0</td>\n",
              "      <td>3</td>\n",
              "      <td>Nankoff, Mr. Minko</td>\n",
              "      <td>0</td>\n",
              "      <td>NaN</td>\n",
              "      <td>0</td>\n",
              "      <td>0</td>\n",
              "      <td>349218</td>\n",
              "      <td>7.8958</td>\n",
              "      <td>NaN</td>\n",
              "      <td>S</td>\n",
              "    </tr>\n",
              "    <tr>\n",
              "      <th>3</th>\n",
              "      <td>4</td>\n",
              "      <td>0</td>\n",
              "      <td>1</td>\n",
              "      <td>Thayer, Mr. John Borland</td>\n",
              "      <td>0</td>\n",
              "      <td>49.0</td>\n",
              "      <td>1</td>\n",
              "      <td>1</td>\n",
              "      <td>17421</td>\n",
              "      <td>110.8833</td>\n",
              "      <td>C68</td>\n",
              "      <td>C</td>\n",
              "    </tr>\n",
              "    <tr>\n",
              "      <th>4</th>\n",
              "      <td>5</td>\n",
              "      <td>0</td>\n",
              "      <td>3</td>\n",
              "      <td>Strandberg, Miss. Ida Sofia</td>\n",
              "      <td>1</td>\n",
              "      <td>22.0</td>\n",
              "      <td>0</td>\n",
              "      <td>0</td>\n",
              "      <td>7553</td>\n",
              "      <td>9.8375</td>\n",
              "      <td>NaN</td>\n",
              "      <td>S</td>\n",
              "    </tr>\n",
              "  </tbody>\n",
              "</table>\n",
              "</div>"
            ],
            "text/plain": [
              "   PassengerId  Survived  Pclass  ...      Fare  Cabin  Embarked\n",
              "0            1         0       1  ...   52.0000    B71         S\n",
              "1            2         0       3  ...    7.0500    NaN         S\n",
              "2            3         0       3  ...    7.8958    NaN         S\n",
              "3            4         0       1  ...  110.8833    C68         C\n",
              "4            5         0       3  ...    9.8375    NaN         S\n",
              "\n",
              "[5 rows x 12 columns]"
            ]
          },
          "metadata": {
            "tags": []
          },
          "execution_count": 4
        }
      ]
    },
    {
      "cell_type": "code",
      "metadata": {
        "colab": {
          "base_uri": "https://localhost:8080/"
        },
        "id": "8kU6m1mHbh7F",
        "outputId": "a27f37da-482c-4951-b833-2a9b156c5f2a"
      },
      "source": [
        "training[\"Age\"].fillna(training[\"Age\"].mean(), inplace=True)\n",
        "training.info()"
      ],
      "execution_count": null,
      "outputs": [
        {
          "output_type": "stream",
          "text": [
            "<class 'pandas.core.frame.DataFrame'>\n",
            "RangeIndex: 915 entries, 0 to 914\n",
            "Data columns (total 12 columns):\n",
            " #   Column       Non-Null Count  Dtype  \n",
            "---  ------       --------------  -----  \n",
            " 0   PassengerId  915 non-null    int64  \n",
            " 1   Survived     915 non-null    int64  \n",
            " 2   Pclass       915 non-null    int64  \n",
            " 3   Name         915 non-null    object \n",
            " 4   Gender       915 non-null    int64  \n",
            " 5   Age          915 non-null    float64\n",
            " 6   SibSp        915 non-null    int64  \n",
            " 7   Parch        915 non-null    int64  \n",
            " 8   Ticket       915 non-null    object \n",
            " 9   Fare         915 non-null    float64\n",
            " 10  Cabin        202 non-null    object \n",
            " 11  Embarked     914 non-null    object \n",
            "dtypes: float64(2), int64(6), object(4)\n",
            "memory usage: 85.9+ KB\n"
          ],
          "name": "stdout"
        }
      ]
    },
    {
      "cell_type": "code",
      "metadata": {
        "colab": {
          "base_uri": "https://localhost:8080/"
        },
        "id": "Q4htVn2xb9ft",
        "outputId": "aa472404-77c2-48b1-b2ea-3ff53e469929"
      },
      "source": [
        "print(f'NA age was replaced by {training[\"Age\"].mean()}')"
      ],
      "execution_count": null,
      "outputs": [
        {
          "output_type": "stream",
          "text": [
            "NA age was replaced by 29.970867208672033\n"
          ],
          "name": "stdout"
        }
      ]
    },
    {
      "cell_type": "code",
      "metadata": {
        "id": "QNWtdXgFcnEe"
      },
      "source": [
        "#code cell 8\n",
        "#create the array for the target values\n",
        "y_target = training[\"Survived\"].values"
      ],
      "execution_count": null,
      "outputs": []
    },
    {
      "cell_type": "code",
      "metadata": {
        "id": "pVho4hYacqfG"
      },
      "source": [
        "#code cell 9\n",
        "columns = [\"Fare\", \"Pclass\", \"Gender\", \"Age\", \"SibSp\"]\n",
        "#create the variable to hold the features that the classifier will use\n",
        "X_input = training[list(columns)].values"
      ],
      "execution_count": null,
      "outputs": []
    },
    {
      "cell_type": "code",
      "metadata": {
        "id": "gOl8EWcacuuO"
      },
      "source": [
        "#code cell 10\n",
        "#import the tree module from the sklearn library\n",
        "from sklearn import tree\n",
        "\n",
        "#create clf_train as a decision tree classifier object\n",
        "clf_train = tree.DecisionTreeClassifier(criterion=\"entropy\", max_depth=3)\n",
        "\n",
        "#train the model using the fit() method of the decision tree object. \n",
        "#Supply the method with the input variable X_input and the target variable y_target\n",
        "clf_train = clf_train.fit(X_input, y_target)"
      ],
      "execution_count": null,
      "outputs": []
    },
    {
      "cell_type": "code",
      "metadata": {
        "colab": {
          "base_uri": "https://localhost:8080/"
        },
        "id": "l3YW-pH4cx2l",
        "outputId": "eeca957e-2763-48b9-a260-464cc4088509"
      },
      "source": [
        "#code cell 11\n",
        "clf_train.score(X_input,y_target)"
      ],
      "execution_count": null,
      "outputs": [
        {
          "output_type": "execute_result",
          "data": {
            "text/plain": [
              "0.8163934426229508"
            ]
          },
          "metadata": {
            "tags": []
          },
          "execution_count": 10
        }
      ]
    },
    {
      "cell_type": "code",
      "metadata": {
        "id": "cLFdalDjdaE-"
      },
      "source": [
        "#code cell 12\n",
        "from sklearn.externals.six import StringIO\n",
        "with open(\"./titanic.dot\", 'w') as f:\n",
        "  f = tree.export_graphviz(clf_train, out_file=f, feature_names=columns)"
      ],
      "execution_count": null,
      "outputs": []
    },
    {
      "cell_type": "code",
      "metadata": {
        "colab": {
          "base_uri": "https://localhost:8080/"
        },
        "id": "koOTYAFLdteX",
        "outputId": "461ec137-e5fa-4e84-9ec1-d1d9f02fac20"
      },
      "source": [
        "!pip install graphviz"
      ],
      "execution_count": null,
      "outputs": [
        {
          "output_type": "stream",
          "text": [
            "Requirement already satisfied: graphviz in /usr/local/lib/python3.7/dist-packages (0.10.1)\n"
          ],
          "name": "stdout"
        }
      ]
    },
    {
      "cell_type": "code",
      "metadata": {
        "id": "xC2C61JBd1Gz"
      },
      "source": [
        "!dot -Tpng ./titanic.dot -o ./titanic.png"
      ],
      "execution_count": null,
      "outputs": []
    },
    {
      "cell_type": "code",
      "metadata": {
        "colab": {
          "base_uri": "https://localhost:8080/",
          "height": 502
        },
        "id": "_dAE_6F0eM1H",
        "outputId": "681997ab-807b-4223-aea5-0cd097f3102b"
      },
      "source": [
        "#code cell 14\n",
        "#import the Image module from the Ipython.display libary\n",
        "from IPython.display import Image\n",
        "\n",
        "#display the decison tree graphic\n",
        "Image(\"./titanic.png\")"
      ],
      "execution_count": null,
      "outputs": [
        {
          "output_type": "execute_result",
          "data": {
            "image/png": "[encoded data removed]",
            "text/plain": [
              "<IPython.core.display.Image object>"
            ]
          },
          "metadata": {
            "tags": []
          },
          "execution_count": 15
        }
      ]
    },
    {
      "cell_type": "markdown",
      "metadata": {
        "id": "PL_3WFThfOMu"
      },
      "source": [
        "The group that had the most deaths by number is Male with Age >= 14.25 and Pclass >= 1.5.\n",
        "Group that had the most survivors: Female with Pclass <= 2.5 an Fare >= 26.125"
      ]
    },
    {
      "cell_type": "code",
      "metadata": {
        "id": "4O3J9y9Xfzbq"
      },
      "source": [
        "#code cell 15\n",
        "#import the file into the 'testing' dataframe.\n",
        "testing = pd.read_csv('https://raw.githubusercontent.com/tia337/ml_lab_source/master/titanic-test.csv')"
      ],
      "execution_count": null,
      "outputs": []
    },
    {
      "cell_type": "code",
      "metadata": {
        "colab": {
          "base_uri": "https://localhost:8080/"
        },
        "id": "tc9MRRWZf-kh",
        "outputId": "3edbf8ec-c789-4632-cf62-843673973e3f"
      },
      "source": [
        "print(f'There are {len(testing.index)} records in dataset')"
      ],
      "execution_count": null,
      "outputs": [
        {
          "output_type": "stream",
          "text": [
            "There are 393 records in dataset\n"
          ],
          "name": "stdout"
        }
      ]
    },
    {
      "cell_type": "code",
      "metadata": {
        "colab": {
          "base_uri": "https://localhost:8080/"
        },
        "id": "g3kHxC3CgXIc",
        "outputId": "f427e278-4513-40d7-da3f-01b4d61f5fa9"
      },
      "source": [
        "testing.info()"
      ],
      "execution_count": null,
      "outputs": [
        {
          "output_type": "stream",
          "text": [
            "<class 'pandas.core.frame.DataFrame'>\n",
            "RangeIndex: 393 entries, 0 to 392\n",
            "Data columns (total 12 columns):\n",
            " #   Column       Non-Null Count  Dtype  \n",
            "---  ------       --------------  -----  \n",
            " 0   PassengerId  393 non-null    int64  \n",
            " 1   Survived     393 non-null    int64  \n",
            " 2   Pclass       393 non-null    int64  \n",
            " 3   Name         393 non-null    object \n",
            " 4   Gender       393 non-null    object \n",
            " 5   Age          307 non-null    float64\n",
            " 6   SibSp        393 non-null    int64  \n",
            " 7   Parch        393 non-null    int64  \n",
            " 8   Ticket       393 non-null    object \n",
            " 9   Fare         393 non-null    float64\n",
            " 10  Cabin        93 non-null     object \n",
            " 11  Embarked     392 non-null    object \n",
            "dtypes: float64(2), int64(5), object(5)\n",
            "memory usage: 37.0+ KB\n"
          ],
          "name": "stdout"
        }
      ]
    },
    {
      "cell_type": "markdown",
      "metadata": {
        "id": "TJ55Bj1Kgc5d"
      },
      "source": [
        "86 missing Age values, 300 Cabin values and 1 Embarked value\n",
        "\n"
      ]
    },
    {
      "cell_type": "code",
      "metadata": {
        "colab": {
          "base_uri": "https://localhost:8080/",
          "height": 204
        },
        "id": "J3o5dj1qg3jL",
        "outputId": "d32cba90-df59-4ece-d70f-a02340ac348a"
      },
      "source": [
        "testing[\"Gender\"] = testing[\"Gender\"].apply(lambda toLabel: 0 if toLabel == 'male' else 1)\n",
        "testing.head()"
      ],
      "execution_count": null,
      "outputs": [
        {
          "output_type": "execute_result",
          "data": {
            "text/html": [
              "<div>\n",
              "<style scoped>\n",
              "    .dataframe tbody tr th:only-of-type {\n",
              "        vertical-align: middle;\n",
              "    }\n",
              "\n",
              "    .dataframe tbody tr th {\n",
              "        vertical-align: top;\n",
              "    }\n",
              "\n",
              "    .dataframe thead th {\n",
              "        text-align: right;\n",
              "    }\n",
              "</style>\n",
              "<table border=\"1\" class=\"dataframe\">\n",
              "  <thead>\n",
              "    <tr style=\"text-align: right;\">\n",
              "      <th></th>\n",
              "      <th>PassengerId</th>\n",
              "      <th>Survived</th>\n",
              "      <th>Pclass</th>\n",
              "      <th>Name</th>\n",
              "      <th>Gender</th>\n",
              "      <th>Age</th>\n",
              "      <th>SibSp</th>\n",
              "      <th>Parch</th>\n",
              "      <th>Ticket</th>\n",
              "      <th>Fare</th>\n",
              "      <th>Cabin</th>\n",
              "      <th>Embarked</th>\n",
              "    </tr>\n",
              "  </thead>\n",
              "  <tbody>\n",
              "    <tr>\n",
              "      <th>0</th>\n",
              "      <td>916</td>\n",
              "      <td>0</td>\n",
              "      <td>2</td>\n",
              "      <td>Coleridge, Mr. Reginald Charles</td>\n",
              "      <td>0</td>\n",
              "      <td>29.0</td>\n",
              "      <td>0</td>\n",
              "      <td>0</td>\n",
              "      <td>W./C. 14263</td>\n",
              "      <td>10.50</td>\n",
              "      <td>NaN</td>\n",
              "      <td>S</td>\n",
              "    </tr>\n",
              "    <tr>\n",
              "      <th>1</th>\n",
              "      <td>917</td>\n",
              "      <td>1</td>\n",
              "      <td>1</td>\n",
              "      <td>Spedden, Mrs. Frederic Oakley (Margaretta Corn...</td>\n",
              "      <td>1</td>\n",
              "      <td>40.0</td>\n",
              "      <td>1</td>\n",
              "      <td>1</td>\n",
              "      <td>16966</td>\n",
              "      <td>134.50</td>\n",
              "      <td>E34</td>\n",
              "      <td>C</td>\n",
              "    </tr>\n",
              "    <tr>\n",
              "      <th>2</th>\n",
              "      <td>918</td>\n",
              "      <td>0</td>\n",
              "      <td>3</td>\n",
              "      <td>Windelov, Mr. Einar</td>\n",
              "      <td>0</td>\n",
              "      <td>21.0</td>\n",
              "      <td>0</td>\n",
              "      <td>0</td>\n",
              "      <td>SOTON/OQ 3101317</td>\n",
              "      <td>7.25</td>\n",
              "      <td>NaN</td>\n",
              "      <td>S</td>\n",
              "    </tr>\n",
              "    <tr>\n",
              "      <th>3</th>\n",
              "      <td>919</td>\n",
              "      <td>1</td>\n",
              "      <td>1</td>\n",
              "      <td>Minahan, Miss. Daisy E</td>\n",
              "      <td>1</td>\n",
              "      <td>33.0</td>\n",
              "      <td>1</td>\n",
              "      <td>0</td>\n",
              "      <td>19928</td>\n",
              "      <td>90.00</td>\n",
              "      <td>C78</td>\n",
              "      <td>Q</td>\n",
              "    </tr>\n",
              "    <tr>\n",
              "      <th>4</th>\n",
              "      <td>920</td>\n",
              "      <td>1</td>\n",
              "      <td>3</td>\n",
              "      <td>Wilkes, Mrs. James (Ellen Needs)</td>\n",
              "      <td>1</td>\n",
              "      <td>47.0</td>\n",
              "      <td>1</td>\n",
              "      <td>0</td>\n",
              "      <td>363272</td>\n",
              "      <td>7.00</td>\n",
              "      <td>NaN</td>\n",
              "      <td>S</td>\n",
              "    </tr>\n",
              "  </tbody>\n",
              "</table>\n",
              "</div>"
            ],
            "text/plain": [
              "   PassengerId  Survived  Pclass  ...    Fare  Cabin  Embarked\n",
              "0          916         0       2  ...   10.50    NaN         S\n",
              "1          917         1       1  ...  134.50    E34         C\n",
              "2          918         0       3  ...    7.25    NaN         S\n",
              "3          919         1       1  ...   90.00    C78         Q\n",
              "4          920         1       3  ...    7.00    NaN         S\n",
              "\n",
              "[5 rows x 12 columns]"
            ]
          },
          "metadata": {
            "tags": []
          },
          "execution_count": 20
        }
      ]
    },
    {
      "cell_type": "code",
      "metadata": {
        "id": "-ZdYtlO7hOqa"
      },
      "source": [
        "#code cell 17\n",
        "#Use the fillna method of the testing dataframe column \"Age\" \n",
        "#to replace missing values with the mean of the age values.\n",
        "testing[\"Age\"].fillna(testing[\"Age\"].mean(), inplace=True)"
      ],
      "execution_count": null,
      "outputs": []
    },
    {
      "cell_type": "code",
      "metadata": {
        "colab": {
          "base_uri": "https://localhost:8080/",
          "height": 527
        },
        "id": "7m2a9XwdhSeZ",
        "outputId": "e33938a9-32e0-4622-8070-daf9b731c521"
      },
      "source": [
        "#code cell 18\n",
        "#verify the data preparation steps. Enter and run both the info and head \n",
        "#methods from here, by entering and running one and then the other.\n",
        "testing.info()\n",
        "testing.head()"
      ],
      "execution_count": null,
      "outputs": [
        {
          "output_type": "stream",
          "text": [
            "<class 'pandas.core.frame.DataFrame'>\n",
            "RangeIndex: 393 entries, 0 to 392\n",
            "Data columns (total 12 columns):\n",
            " #   Column       Non-Null Count  Dtype  \n",
            "---  ------       --------------  -----  \n",
            " 0   PassengerId  393 non-null    int64  \n",
            " 1   Survived     393 non-null    int64  \n",
            " 2   Pclass       393 non-null    int64  \n",
            " 3   Name         393 non-null    object \n",
            " 4   Gender       393 non-null    int64  \n",
            " 5   Age          393 non-null    float64\n",
            " 6   SibSp        393 non-null    int64  \n",
            " 7   Parch        393 non-null    int64  \n",
            " 8   Ticket       393 non-null    object \n",
            " 9   Fare         393 non-null    float64\n",
            " 10  Cabin        93 non-null     object \n",
            " 11  Embarked     392 non-null    object \n",
            "dtypes: float64(2), int64(6), object(4)\n",
            "memory usage: 37.0+ KB\n"
          ],
          "name": "stdout"
        },
        {
          "output_type": "execute_result",
          "data": {
            "text/html": [
              "<div>\n",
              "<style scoped>\n",
              "    .dataframe tbody tr th:only-of-type {\n",
              "        vertical-align: middle;\n",
              "    }\n",
              "\n",
              "    .dataframe tbody tr th {\n",
              "        vertical-align: top;\n",
              "    }\n",
              "\n",
              "    .dataframe thead th {\n",
              "        text-align: right;\n",
              "    }\n",
              "</style>\n",
              "<table border=\"1\" class=\"dataframe\">\n",
              "  <thead>\n",
              "    <tr style=\"text-align: right;\">\n",
              "      <th></th>\n",
              "      <th>PassengerId</th>\n",
              "      <th>Survived</th>\n",
              "      <th>Pclass</th>\n",
              "      <th>Name</th>\n",
              "      <th>Gender</th>\n",
              "      <th>Age</th>\n",
              "      <th>SibSp</th>\n",
              "      <th>Parch</th>\n",
              "      <th>Ticket</th>\n",
              "      <th>Fare</th>\n",
              "      <th>Cabin</th>\n",
              "      <th>Embarked</th>\n",
              "    </tr>\n",
              "  </thead>\n",
              "  <tbody>\n",
              "    <tr>\n",
              "      <th>0</th>\n",
              "      <td>916</td>\n",
              "      <td>0</td>\n",
              "      <td>2</td>\n",
              "      <td>Coleridge, Mr. Reginald Charles</td>\n",
              "      <td>0</td>\n",
              "      <td>29.0</td>\n",
              "      <td>0</td>\n",
              "      <td>0</td>\n",
              "      <td>W./C. 14263</td>\n",
              "      <td>10.50</td>\n",
              "      <td>NaN</td>\n",
              "      <td>S</td>\n",
              "    </tr>\n",
              "    <tr>\n",
              "      <th>1</th>\n",
              "      <td>917</td>\n",
              "      <td>1</td>\n",
              "      <td>1</td>\n",
              "      <td>Spedden, Mrs. Frederic Oakley (Margaretta Corn...</td>\n",
              "      <td>1</td>\n",
              "      <td>40.0</td>\n",
              "      <td>1</td>\n",
              "      <td>1</td>\n",
              "      <td>16966</td>\n",
              "      <td>134.50</td>\n",
              "      <td>E34</td>\n",
              "      <td>C</td>\n",
              "    </tr>\n",
              "    <tr>\n",
              "      <th>2</th>\n",
              "      <td>918</td>\n",
              "      <td>0</td>\n",
              "      <td>3</td>\n",
              "      <td>Windelov, Mr. Einar</td>\n",
              "      <td>0</td>\n",
              "      <td>21.0</td>\n",
              "      <td>0</td>\n",
              "      <td>0</td>\n",
              "      <td>SOTON/OQ 3101317</td>\n",
              "      <td>7.25</td>\n",
              "      <td>NaN</td>\n",
              "      <td>S</td>\n",
              "    </tr>\n",
              "    <tr>\n",
              "      <th>3</th>\n",
              "      <td>919</td>\n",
              "      <td>1</td>\n",
              "      <td>1</td>\n",
              "      <td>Minahan, Miss. Daisy E</td>\n",
              "      <td>1</td>\n",
              "      <td>33.0</td>\n",
              "      <td>1</td>\n",
              "      <td>0</td>\n",
              "      <td>19928</td>\n",
              "      <td>90.00</td>\n",
              "      <td>C78</td>\n",
              "      <td>Q</td>\n",
              "    </tr>\n",
              "    <tr>\n",
              "      <th>4</th>\n",
              "      <td>920</td>\n",
              "      <td>1</td>\n",
              "      <td>3</td>\n",
              "      <td>Wilkes, Mrs. James (Ellen Needs)</td>\n",
              "      <td>1</td>\n",
              "      <td>47.0</td>\n",
              "      <td>1</td>\n",
              "      <td>0</td>\n",
              "      <td>363272</td>\n",
              "      <td>7.00</td>\n",
              "      <td>NaN</td>\n",
              "      <td>S</td>\n",
              "    </tr>\n",
              "  </tbody>\n",
              "</table>\n",
              "</div>"
            ],
            "text/plain": [
              "   PassengerId  Survived  Pclass  ...    Fare  Cabin  Embarked\n",
              "0          916         0       2  ...   10.50    NaN         S\n",
              "1          917         1       1  ...  134.50    E34         C\n",
              "2          918         0       3  ...    7.25    NaN         S\n",
              "3          919         1       1  ...   90.00    C78         Q\n",
              "4          920         1       3  ...    7.00    NaN         S\n",
              "\n",
              "[5 rows x 12 columns]"
            ]
          },
          "metadata": {
            "tags": []
          },
          "execution_count": 22
        }
      ]
    },
    {
      "cell_type": "code",
      "metadata": {
        "id": "SBrXmzjqhbGl"
      },
      "source": [
        "#code cell 19\n",
        "#create the variable X_input to hold the features that the classifier will use\n",
        "X_input = testing[list(columns)].values"
      ],
      "execution_count": null,
      "outputs": []
    },
    {
      "cell_type": "code",
      "metadata": {
        "colab": {
          "base_uri": "https://localhost:8080/",
          "height": 204
        },
        "id": "H74jtuhIhf7b",
        "outputId": "815d5448-c8be-4aca-ceed-44f925a1f266"
      },
      "source": [
        "#code cell 20\n",
        "#apply the model to the testing data and store the result in a pandas dataframe.\n",
        "#Use X_input as the argurment for the predict() method of the clf_train classifier object\n",
        "\n",
        "target_labels = clf_train.predict(X_input)\n",
        "\n",
        "#convert the target array into a pandas dataframe using the pd.DataFrame() method and target as argument\n",
        "target_labels = pd.DataFrame({'Est_Survival':target_labels, 'Name':testing['Name']})\n",
        "\n",
        "#display the first few rows of the data set\n",
        "target_labels.head()"
      ],
      "execution_count": null,
      "outputs": [
        {
          "output_type": "execute_result",
          "data": {
            "text/html": [
              "<div>\n",
              "<style scoped>\n",
              "    .dataframe tbody tr th:only-of-type {\n",
              "        vertical-align: middle;\n",
              "    }\n",
              "\n",
              "    .dataframe tbody tr th {\n",
              "        vertical-align: top;\n",
              "    }\n",
              "\n",
              "    .dataframe thead th {\n",
              "        text-align: right;\n",
              "    }\n",
              "</style>\n",
              "<table border=\"1\" class=\"dataframe\">\n",
              "  <thead>\n",
              "    <tr style=\"text-align: right;\">\n",
              "      <th></th>\n",
              "      <th>Est_Survival</th>\n",
              "      <th>Name</th>\n",
              "    </tr>\n",
              "  </thead>\n",
              "  <tbody>\n",
              "    <tr>\n",
              "      <th>0</th>\n",
              "      <td>0</td>\n",
              "      <td>Coleridge, Mr. Reginald Charles</td>\n",
              "    </tr>\n",
              "    <tr>\n",
              "      <th>1</th>\n",
              "      <td>1</td>\n",
              "      <td>Spedden, Mrs. Frederic Oakley (Margaretta Corn...</td>\n",
              "    </tr>\n",
              "    <tr>\n",
              "      <th>2</th>\n",
              "      <td>0</td>\n",
              "      <td>Windelov, Mr. Einar</td>\n",
              "    </tr>\n",
              "    <tr>\n",
              "      <th>3</th>\n",
              "      <td>1</td>\n",
              "      <td>Minahan, Miss. Daisy E</td>\n",
              "    </tr>\n",
              "    <tr>\n",
              "      <th>4</th>\n",
              "      <td>0</td>\n",
              "      <td>Wilkes, Mrs. James (Ellen Needs)</td>\n",
              "    </tr>\n",
              "  </tbody>\n",
              "</table>\n",
              "</div>"
            ],
            "text/plain": [
              "   Est_Survival                                               Name\n",
              "0             0                    Coleridge, Mr. Reginald Charles\n",
              "1             1  Spedden, Mrs. Frederic Oakley (Margaretta Corn...\n",
              "2             0                                Windelov, Mr. Einar\n",
              "3             1                             Minahan, Miss. Daisy E\n",
              "4             0                   Wilkes, Mrs. James (Ellen Needs)"
            ]
          },
          "metadata": {
            "tags": []
          },
          "execution_count": 24
        }
      ]
    },
    {
      "cell_type": "code",
      "metadata": {
        "colab": {
          "base_uri": "https://localhost:8080/"
        },
        "id": "9_oPmYlWhqEQ",
        "outputId": "3be0a4e0-964d-4425-a67b-d7707f63c82b"
      },
      "source": [
        "#code cell 21\n",
        "#import the numpy library as np\n",
        "import numpy as np\n",
        "# Load data for all passengers in the variable all_data\n",
        "all_data = pd.read_csv(\"https://raw.githubusercontent.com/tia337/ml_lab_source/master/titanic_all.csv\")\n",
        "# Merging using the field Name as key, selects only the rows of the two datasets that refer to the same passenger\n",
        "testing_results = pd.merge(target_labels, all_data[['Name','Survived']], on=['Name'])\n",
        "\n",
        "# Compute the accuracy as a ratio of matching observations to total osbervations. Store this in in the variable acc.\n",
        "acc = np.sum(testing_results['Est_Survival'] == testing_results['Survived']) / float(len(testing_results))\n",
        "# Print the result\n",
        "print(acc)"
      ],
      "execution_count": null,
      "outputs": [
        {
          "output_type": "stream",
          "text": [
            "0.7588832487309645\n"
          ],
          "name": "stdout"
        }
      ]
    },
    {
      "cell_type": "code",
      "metadata": {
        "colab": {
          "base_uri": "https://localhost:8080/"
        },
        "id": "_3u_GhJOh5-C",
        "outputId": "7eefd53b-311c-485c-bfee-3f1158e4fe13"
      },
      "source": [
        "#code cell 22\n",
        "#import the titanic_all.csv file into a dataframe called all_data. Specify the list of columns to import.\n",
        "all_data = pd.read_csv(\"https://raw.githubusercontent.com/tia337/ml_lab_source/master/titanic_all.csv\", usecols=['Survived','Pclass','Gender','Age','SibSp','Fare'])\n",
        "#View info for the new dataframe\n",
        "all_data.info()"
      ],
      "execution_count": null,
      "outputs": [
        {
          "output_type": "stream",
          "text": [
            "<class 'pandas.core.frame.DataFrame'>\n",
            "RangeIndex: 1308 entries, 0 to 1307\n",
            "Data columns (total 6 columns):\n",
            " #   Column    Non-Null Count  Dtype  \n",
            "---  ------    --------------  -----  \n",
            " 0   Survived  1308 non-null   int64  \n",
            " 1   Pclass    1308 non-null   int64  \n",
            " 2   Gender    1308 non-null   object \n",
            " 3   Age       1045 non-null   float64\n",
            " 4   SibSp     1308 non-null   int64  \n",
            " 5   Fare      1308 non-null   float64\n",
            "dtypes: float64(2), int64(3), object(1)\n",
            "memory usage: 61.4+ KB\n"
          ],
          "name": "stdout"
        }
      ]
    },
    {
      "cell_type": "code",
      "metadata": {
        "colab": {
          "base_uri": "https://localhost:8080/"
        },
        "id": "jdnwz51LiGM-",
        "outputId": "64ce1e76-6e23-4097-876b-f6cbc7c50076"
      },
      "source": [
        "print(f'There are {len(all_data.index)} records in dataset')"
      ],
      "execution_count": null,
      "outputs": [
        {
          "output_type": "stream",
          "text": [
            "There are 1308 records in dataset\n"
          ],
          "name": "stdout"
        }
      ]
    },
    {
      "cell_type": "markdown",
      "metadata": {
        "id": "0tRFY06diJmV"
      },
      "source": [
        "263 Age value missing"
      ]
    },
    {
      "cell_type": "code",
      "metadata": {
        "colab": {
          "base_uri": "https://localhost:8080/",
          "height": 204
        },
        "id": "NRvxFFOHivEf",
        "outputId": "80cd1ba8-ad68-4172-c9d1-33655fc4618c"
      },
      "source": [
        "all_data[\"Gender\"] = all_data[\"Gender\"].apply(lambda toLabel: 0 if toLabel == 'male' else 1)\n",
        "all_data.head()"
      ],
      "execution_count": null,
      "outputs": [
        {
          "output_type": "execute_result",
          "data": {
            "text/html": [
              "<div>\n",
              "<style scoped>\n",
              "    .dataframe tbody tr th:only-of-type {\n",
              "        vertical-align: middle;\n",
              "    }\n",
              "\n",
              "    .dataframe tbody tr th {\n",
              "        vertical-align: top;\n",
              "    }\n",
              "\n",
              "    .dataframe thead th {\n",
              "        text-align: right;\n",
              "    }\n",
              "</style>\n",
              "<table border=\"1\" class=\"dataframe\">\n",
              "  <thead>\n",
              "    <tr style=\"text-align: right;\">\n",
              "      <th></th>\n",
              "      <th>Survived</th>\n",
              "      <th>Pclass</th>\n",
              "      <th>Gender</th>\n",
              "      <th>Age</th>\n",
              "      <th>SibSp</th>\n",
              "      <th>Fare</th>\n",
              "    </tr>\n",
              "  </thead>\n",
              "  <tbody>\n",
              "    <tr>\n",
              "      <th>0</th>\n",
              "      <td>1</td>\n",
              "      <td>1</td>\n",
              "      <td>1</td>\n",
              "      <td>29.0000</td>\n",
              "      <td>0</td>\n",
              "      <td>211.3375</td>\n",
              "    </tr>\n",
              "    <tr>\n",
              "      <th>1</th>\n",
              "      <td>1</td>\n",
              "      <td>1</td>\n",
              "      <td>0</td>\n",
              "      <td>0.9167</td>\n",
              "      <td>1</td>\n",
              "      <td>151.5500</td>\n",
              "    </tr>\n",
              "    <tr>\n",
              "      <th>2</th>\n",
              "      <td>0</td>\n",
              "      <td>1</td>\n",
              "      <td>1</td>\n",
              "      <td>2.0000</td>\n",
              "      <td>1</td>\n",
              "      <td>151.5500</td>\n",
              "    </tr>\n",
              "    <tr>\n",
              "      <th>3</th>\n",
              "      <td>0</td>\n",
              "      <td>1</td>\n",
              "      <td>0</td>\n",
              "      <td>30.0000</td>\n",
              "      <td>1</td>\n",
              "      <td>151.5500</td>\n",
              "    </tr>\n",
              "    <tr>\n",
              "      <th>4</th>\n",
              "      <td>0</td>\n",
              "      <td>1</td>\n",
              "      <td>1</td>\n",
              "      <td>25.0000</td>\n",
              "      <td>1</td>\n",
              "      <td>151.5500</td>\n",
              "    </tr>\n",
              "  </tbody>\n",
              "</table>\n",
              "</div>"
            ],
            "text/plain": [
              "   Survived  Pclass  Gender      Age  SibSp      Fare\n",
              "0         1       1       1  29.0000      0  211.3375\n",
              "1         1       1       0   0.9167      1  151.5500\n",
              "2         0       1       1   2.0000      1  151.5500\n",
              "3         0       1       0  30.0000      1  151.5500\n",
              "4         0       1       1  25.0000      1  151.5500"
            ]
          },
          "metadata": {
            "tags": []
          },
          "execution_count": 27
        }
      ]
    },
    {
      "cell_type": "code",
      "metadata": {
        "colab": {
          "base_uri": "https://localhost:8080/",
          "height": 204
        },
        "id": "NREUAt7UiReX",
        "outputId": "31bf9929-afa9-47d9-b33b-2b4ea10168cb"
      },
      "source": [
        "#code cell 24\n",
        "#replace missing Age values with the mean age\n",
        "all_data[\"Age\"].fillna(all_data[\"Age\"].mean(), inplace=True)\n",
        "#display the first few rows of the data set\n",
        "all_data.head()"
      ],
      "execution_count": null,
      "outputs": [
        {
          "output_type": "execute_result",
          "data": {
            "text/html": [
              "<div>\n",
              "<style scoped>\n",
              "    .dataframe tbody tr th:only-of-type {\n",
              "        vertical-align: middle;\n",
              "    }\n",
              "\n",
              "    .dataframe tbody tr th {\n",
              "        vertical-align: top;\n",
              "    }\n",
              "\n",
              "    .dataframe thead th {\n",
              "        text-align: right;\n",
              "    }\n",
              "</style>\n",
              "<table border=\"1\" class=\"dataframe\">\n",
              "  <thead>\n",
              "    <tr style=\"text-align: right;\">\n",
              "      <th></th>\n",
              "      <th>Survived</th>\n",
              "      <th>Pclass</th>\n",
              "      <th>Gender</th>\n",
              "      <th>Age</th>\n",
              "      <th>SibSp</th>\n",
              "      <th>Fare</th>\n",
              "    </tr>\n",
              "  </thead>\n",
              "  <tbody>\n",
              "    <tr>\n",
              "      <th>0</th>\n",
              "      <td>1</td>\n",
              "      <td>1</td>\n",
              "      <td>1</td>\n",
              "      <td>29.0000</td>\n",
              "      <td>0</td>\n",
              "      <td>211.3375</td>\n",
              "    </tr>\n",
              "    <tr>\n",
              "      <th>1</th>\n",
              "      <td>1</td>\n",
              "      <td>1</td>\n",
              "      <td>0</td>\n",
              "      <td>0.9167</td>\n",
              "      <td>1</td>\n",
              "      <td>151.5500</td>\n",
              "    </tr>\n",
              "    <tr>\n",
              "      <th>2</th>\n",
              "      <td>0</td>\n",
              "      <td>1</td>\n",
              "      <td>1</td>\n",
              "      <td>2.0000</td>\n",
              "      <td>1</td>\n",
              "      <td>151.5500</td>\n",
              "    </tr>\n",
              "    <tr>\n",
              "      <th>3</th>\n",
              "      <td>0</td>\n",
              "      <td>1</td>\n",
              "      <td>0</td>\n",
              "      <td>30.0000</td>\n",
              "      <td>1</td>\n",
              "      <td>151.5500</td>\n",
              "    </tr>\n",
              "    <tr>\n",
              "      <th>4</th>\n",
              "      <td>0</td>\n",
              "      <td>1</td>\n",
              "      <td>1</td>\n",
              "      <td>25.0000</td>\n",
              "      <td>1</td>\n",
              "      <td>151.5500</td>\n",
              "    </tr>\n",
              "  </tbody>\n",
              "</table>\n",
              "</div>"
            ],
            "text/plain": [
              "   Survived  Pclass  Gender      Age  SibSp      Fare\n",
              "0         1       1       1  29.0000      0  211.3375\n",
              "1         1       1       0   0.9167      1  151.5500\n",
              "2         0       1       1   2.0000      1  151.5500\n",
              "3         0       1       0  30.0000      1  151.5500\n",
              "4         0       1       1  25.0000      1  151.5500"
            ]
          },
          "metadata": {
            "tags": []
          },
          "execution_count": 29
        }
      ]
    },
    {
      "cell_type": "code",
      "metadata": {
        "id": "ZkC-fDzSiey0"
      },
      "source": [
        "#code cell 25\n",
        "#Import train_test_split() from the sklearn.model_selection libary \n",
        "from sklearn.model_selection import train_test_split\n",
        "\n",
        "#create the input and target variables as uppercase X and lowercase y. Reuse the columns variable.\n",
        "X = all_data[list(columns)].values\n",
        "y = all_data[\"Survived\"].values\n",
        "\n",
        "#generate the four testing and training data arrays with the train_test_split() method\n",
        "X_train,X_test,y_train,y_test=train_test_split(X, y, test_size=0.40, random_state=0)"
      ],
      "execution_count": null,
      "outputs": []
    },
    {
      "cell_type": "code",
      "metadata": {
        "id": "CWOVlDEOiozn"
      },
      "source": [
        "#code cell 26\n",
        "#create the training decision tree object\n",
        "clf_train = tree.DecisionTreeClassifier(criterion=\"entropy\", max_depth=3)\n",
        "\n",
        "#fit the training model using the input and target variables\n",
        "clf_train = clf_train.fit(X_train, y_train)"
      ],
      "execution_count": null,
      "outputs": []
    },
    {
      "cell_type": "code",
      "metadata": {
        "colab": {
          "base_uri": "https://localhost:8080/"
        },
        "id": "Mpm701G4jB40",
        "outputId": "d78a7dc3-97f5-498f-d222-2707c6a10287"
      },
      "source": [
        "#code cell 27\n",
        "#score the model on the two datasets and store the scores in variables. Convert the scores to strings using str()\n",
        "train_score = str(clf_train.score(X_train,y_train))\n",
        "test_score = str(clf_train.score(X_test,y_test))\n",
        "\n",
        "#output the values in a test string\n",
        "print('Training score = '+ train_score+' Testing score = '+test_score)"
      ],
      "execution_count": null,
      "outputs": [
        {
          "output_type": "stream",
          "text": [
            "Training score = 0.8201530612244898 Testing score = 0.8053435114503816\n"
          ],
          "name": "stdout"
        }
      ]
    },
    {
      "cell_type": "markdown",
      "metadata": {
        "id": "fGpP542_jzz2"
      },
      "source": [
        "**Висновок**\n",
        "\n",
        "Під час виконання лабораторної роботи було створено класифікатор дерева рішень, що аналізував дані про загбилих під час катастрофи на Титаніку. Також було оцінено точність моделі дерева рішень, порівнюючи тренувальний та навчальний сети. Як і слід було очікувати, оцінка точності тестового набору є близькою, але нижчою, ніж оцінка для навчального сету. Це пояснюється тим, що, як правило, модель має тенденцію переоцінювати дані навчання, тому оцінка тестового набору - це краща оцінка того, як модель здатна узагальнювати поза навчальними даними."
      ]
    }
  ]
}